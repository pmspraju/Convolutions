{
 "cells": [
  {
   "cell_type": "markdown",
   "metadata": {},
   "source": [
    "# LeNet 5 using TF and Keras"
   ]
  },
  {
   "cell_type": "markdown",
   "metadata": {},
   "source": [
    "### 1. Import required packages"
   ]
  },
  {
   "cell_type": "code",
   "execution_count": 48,
   "metadata": {},
   "outputs": [
    {
     "name": "stdout",
     "output_type": "stream",
     "text": [
      "Packages Loaded\n",
      "The Tensorflow version is 2.1.0.\n",
      "The Keras version is 2.2.4-tf.\n",
      "The Pandas version is 1.0.3.\n",
      "The Numpy version is 1.18.1.\n",
      "C:\\ProgramData\\Anaconda2\\envs\\TFK35\\lib\\site-packages\\numpy\\__init__.py\n"
     ]
    }
   ],
   "source": [
    "from __future__ import print_function\n",
    "\n",
    "import os\n",
    "import datetime\n",
    "import pandas as pd\n",
    "import numpy as np\n",
    "import matplotlib.pyplot as plt\n",
    "\n",
    "import tensorflow as tf\n",
    "from tensorflow import keras\n",
    "from tensorflow.keras.models import Sequential, Model\n",
    "from tensorflow.keras.layers import *\n",
    "from tensorflow.keras.optimizers import SGD, Adam\n",
    "from tensorflow.keras.activations import relu\n",
    "from tensorflow.keras.regularizers import l2\n",
    "from tensorflow.keras.constraints import max_norm\n",
    "from tensorflow.keras import backend as K\n",
    "from tensorflow.keras.datasets import cifar100, cifar10\n",
    "from tensorflow.keras.preprocessing.image import ImageDataGenerator\n",
    "from keras.layers import Dense, Dropout, Activation, Flatten\n",
    "from keras.layers import Conv2D, MaxPooling2D\n",
    "from keras.callbacks import EarlyStopping\n",
    "\n",
    "from IPython.core.interactiveshell import InteractiveShell\n",
    "InteractiveShell.ast_node_interactivity = \"all\"\n",
    "\n",
    "print(\"Packages Loaded\")\n",
    "print('The Tensorflow version is {}.'.format(tf.__version__))\n",
    "print('The Keras version is {}.'.format(keras.__version__))\n",
    "print('The Pandas version is {}.'.format(pd.__version__))\n",
    "print('The Numpy version is {}.'.format(np.__version__))\n",
    "print(np.__file__)"
   ]
  },
  {
   "cell_type": "markdown",
   "metadata": {},
   "source": [
    "### 2. Pipe line the MNIST Dataset from keras"
   ]
  },
  {
   "cell_type": "code",
   "execution_count": 54,
   "metadata": {
    "scrolled": true
   },
   "outputs": [
    {
     "data": {
      "text/plain": [
       "Text(0.5, 1.0, '4')"
      ]
     },
     "execution_count": 54,
     "metadata": {},
     "output_type": "execute_result"
    },
    {
     "data": {
      "text/plain": [
       "<matplotlib.image.AxesImage at 0x16b04fc3710>"
      ]
     },
     "execution_count": 54,
     "metadata": {},
     "output_type": "execute_result"
    },
    {
     "data": {
      "text/plain": [
       "Text(0.5, 1.0, '4')"
      ]
     },
     "execution_count": 54,
     "metadata": {},
     "output_type": "execute_result"
    },
    {
     "data": {
      "text/plain": [
       "<matplotlib.image.AxesImage at 0x16b04ff4ba8>"
      ]
     },
     "execution_count": 54,
     "metadata": {},
     "output_type": "execute_result"
    },
    {
     "data": {
      "image/png": "[encoded data removed]",
      "text/plain": [
       "<Figure size 432x288 with 2 Axes>"
      ]
     },
     "metadata": {
      "needs_background": "light"
     },
     "output_type": "display_data"
    },
    {
     "name": "stdout",
     "output_type": "stream",
     "text": [
      "Shape of Minist train data (60000, 32, 32, 1).\n",
      "Shape of Minist test data (10000, 32, 32, 1).\n"
     ]
    }
   ],
   "source": [
    "#Download the minist data from keras\n",
    "mnist = tf.keras.datasets.mnist\n",
    "\n",
    "#Split the data between train and test data\n",
    "(x1_train, y1_train),(x1_test, y1_test) = mnist.load_data()\n",
    "\n",
    "#Split the data between train and test data\n",
    "(x_train, y_train),(x_test, y_test) = mnist.load_data()\n",
    "\n",
    "#Normalize the data \n",
    "x_train = x_train.astype('float32')\n",
    "x_test = x_test.astype('float32')\n",
    "x_train /= 255\n",
    "x_test /= 255\n",
    "\n",
    "#x_train = tf.keras.utils.normalize(x_train, axis=1)\n",
    "#x_test = tf.keras.utils.normalize(x_test, axis=1)\n",
    "\n",
    "#Zero pad mnist data from 28 to 32\n",
    "x_train = tf.pad(x_train, [[0, 0], [2,2], [2,2]])\n",
    "x_test = tf.pad(x_test, [[0, 0], [2,2], [2,2]])\n",
    "\n",
    "# Convert class vectors to binary class matrices.\n",
    "y_train = tf.keras.utils.to_categorical(y_train, 10)\n",
    "y_test = tf.keras.utils.to_categorical(y_test, 10)\n",
    "\n",
    "#Display a sample image\n",
    "fig = plt.figure()\n",
    "ax1 = plt.subplot(1,2,1)\n",
    "ax1.set_title(y1_train[2])\n",
    "plt.imshow(x_train[2])\n",
    "\n",
    "ax2 = plt.subplot(1,2,2)\n",
    "ax2.set_title(y1_train[2])\n",
    "plt.imshow(x_train[2], cmap = plt.cm.binary)\n",
    "plt.show()\n",
    "\n",
    "# Add a new axis, because we have gray scale images with one channel\n",
    "x_train = x_train[:, :, :, np.newaxis]\n",
    "x_test = x_test[:, :, :, np.newaxis]\n",
    "\n",
    "#Print the shape of train and test data\n",
    "print('Shape of Minist train data {}.'.format(x_train.shape))\n",
    "print('Shape of Minist test data {}.'.format(x_test.shape))"
   ]
  },
  {
   "cell_type": "markdown",
   "metadata": {},
   "source": [
    "### 3. Add CNN 32 maps with filter size 5"
   ]
  },
  {
   "cell_type": "code",
   "execution_count": 50,
   "metadata": {},
   "outputs": [
    {
     "name": "stdout",
     "output_type": "stream",
     "text": [
      "Train on 48000 samples, validate on 12000 samples\n",
      "Epoch 1/10\n",
      "48000/48000 [==============================] - 7s 147us/sample - loss: 0.5030 - accuracy: 0.8551 - val_loss: 0.2319 - val_accuracy: 0.9328\n",
      "Epoch 2/10\n",
      "48000/48000 [==============================] - 8s 157us/sample - loss: 0.1926 - accuracy: 0.9426 - val_loss: 0.1473 - val_accuracy: 0.9566\n",
      "Epoch 3/10\n",
      "48000/48000 [==============================] - 7s 137us/sample - loss: 0.1274 - accuracy: 0.9618 - val_loss: 0.1120 - val_accuracy: 0.9672\n",
      "Epoch 4/10\n",
      "48000/48000 [==============================] - 8s 157us/sample - loss: 0.0924 - accuracy: 0.9718 - val_loss: 0.0902 - val_accuracy: 0.9736\n",
      "Epoch 5/10\n",
      "48000/48000 [==============================] - 7s 148us/sample - loss: 0.0733 - accuracy: 0.9781 - val_loss: 0.0777 - val_accuracy: 0.9761\n",
      "Epoch 6/10\n",
      "48000/48000 [==============================] - 7s 147us/sample - loss: 0.0601 - accuracy: 0.9814 - val_loss: 0.0748 - val_accuracy: 0.9770\n",
      "Epoch 7/10\n",
      "48000/48000 [==============================] - 8s 156us/sample - loss: 0.0480 - accuracy: 0.9853 - val_loss: 0.0606 - val_accuracy: 0.9817\n",
      "Epoch 8/10\n",
      "48000/48000 [==============================] - 7s 143us/sample - loss: 0.0407 - accuracy: 0.9877 - val_loss: 0.0598 - val_accuracy: 0.9822\n",
      "Epoch 9/10\n",
      "48000/48000 [==============================] - 9s 185us/sample - loss: 0.0344 - accuracy: 0.9896 - val_loss: 0.0602 - val_accuracy: 0.9811\n",
      "Epoch 10/10\n",
      "48000/48000 [==============================] - 11s 229us/sample - loss: 0.0295 - accuracy: 0.9911 - val_loss: 0.0564 - val_accuracy: 0.9833\n"
     ]
    },
    {
     "data": {
      "text/plain": [
       "<matplotlib.axes._subplots.AxesSubplot at 0x16b067a4828>"
      ]
     },
     "execution_count": 50,
     "metadata": {},
     "output_type": "execute_result"
    },
    {
     "data": {
      "text/plain": [
       "(0, 1)"
      ]
     },
     "execution_count": 50,
     "metadata": {},
     "output_type": "execute_result"
    },
    {
     "data": {
      "text/plain": [
       "Text(0.5, 0, 'Epochs')"
      ]
     },
     "execution_count": 50,
     "metadata": {},
     "output_type": "execute_result"
    },
    {
     "data": {
      "text/plain": [
       "Text(0.5, 1.0, 'CNN Cifar10 Residual Nets')"
      ]
     },
     "execution_count": 50,
     "metadata": {},
     "output_type": "execute_result"
    },
    {
     "data": {
      "image/png": "[encoded data removed]",
      "text/plain": [
       "<Figure size 720x360 with 1 Axes>"
      ]
     },
     "metadata": {
      "needs_background": "light"
     },
     "output_type": "display_data"
    },
    {
     "name": "stdout",
     "output_type": "stream",
     "text": [
      "10000/10000 [==============================] - 1s 116us/sample - loss: 0.0500 - accuracy: 0.9845\n",
      "Validation Accuracy: 0.9845\n",
      "Model: \"sequential_18\"\n",
      "_________________________________________________________________\n",
      "Layer (type)                 Output Shape              Param #   \n",
      "=================================================================\n",
      "conv2d_52 (Conv2D)           (None, 28, 28, 6)         156       \n",
      "_________________________________________________________________\n",
      "average_pooling2d_34 (Averag (None, 14, 14, 6)         0         \n",
      "_________________________________________________________________\n",
      "conv2d_53 (Conv2D)           (None, 10, 10, 16)        2416      \n",
      "_________________________________________________________________\n",
      "average_pooling2d_35 (Averag (None, 5, 5, 16)          0         \n",
      "_________________________________________________________________\n",
      "conv2d_54 (Conv2D)           (None, 1, 1, 120)         48120     \n",
      "_________________________________________________________________\n",
      "flatten_18 (Flatten)         (None, 120)               0         \n",
      "_________________________________________________________________\n",
      "dense_34 (Dense)             (None, 84)                10164     \n",
      "_________________________________________________________________\n",
      "dense_35 (Dense)             (None, 10)                850       \n",
      "=================================================================\n",
      "Total params: 61,706\n",
      "Trainable params: 61,706\n",
      "Non-trainable params: 0\n",
      "_________________________________________________________________\n"
     ]
    }
   ],
   "source": [
    "model = tf.keras.models.Sequential()\n",
    "model.add(tf.keras.layers.Conv2D(6, [5, 5], strides=(1, 1), activation='tanh', input_shape=x_train.shape[1:]))\n",
    "model.add(tf.keras.layers.AveragePooling2D(pool_size=(2, 2), strides=(2, 2)))\n",
    "model.add(tf.keras.layers.Conv2D(16, [5, 5], strides=(1, 1), activation='tanh'))\n",
    "model.add(tf.keras.layers.AveragePooling2D(pool_size=(2, 2), strides=(2, 2)))\n",
    "model.add(tf.keras.layers.Conv2D(120, [5, 5], strides=(1, 1), activation='tanh'))\n",
    "model.add(tf.keras.layers.Flatten())\n",
    "model.add(tf.keras.layers.Dense(84, activation='tanh'))\n",
    "model.add(tf.keras.layers.Dense(10, activation=tf.nn.softmax))\n",
    "\n",
    "datetime = datetime.datetime.now().strftime(\"%Y%m%d-%H%M%S\")\n",
    "log_dir = os.path.join('logs','fit',datetime,'')\n",
    "tensorboard_callback = tf.keras.callbacks.TensorBoard(log_dir=log_dir, histogram_freq=1)\n",
    "early_stopping_cb = keras.callbacks.EarlyStopping(patience=10, restore_best_weights=True)\n",
    "model.compile(optimizer='adam', loss='categorical_crossentropy', metrics=['accuracy'])\n",
    "model_detail = model.fit(x_train, y_train,\n",
    "                  batch_size=256,\n",
    "                  epochs=10,\n",
    "                  callbacks=[early_stopping_cb, tensorboard_callback],\n",
    "                  shuffle=True,\n",
    "                  validation_split=0.2)\n",
    "\n",
    "#plot accuracies for each epoch\n",
    "history = pd.DataFrame(model_detail.history)\n",
    " \n",
    "history.plot(figsize=(10,5))\n",
    "plt.grid(True)\n",
    "plt.gca().set_ylim(0,1)\n",
    "plt.xlabel('Epochs')\n",
    "plt.title('CNN Cifar10 Residual Nets')\n",
    "plt.show()\n",
    "\n",
    "#After training the model, evaluate the test set\n",
    "val_loss, val_acc = model.evaluate(x_test,y_test)\n",
    "print(\"Validation Accuracy: \"+str(val_acc))\n",
    "\n",
    "#Print the summary of the model\n",
    "model.summary()"
   ]
  },
  {
   "cell_type": "code",
   "execution_count": 51,
   "metadata": {},
   "outputs": [
    {
     "name": "stdout",
     "output_type": "stream",
     "text": [
      "The tensorboard extension is already loaded. To reload it, use:\n",
      "  %reload_ext tensorboard\n"
     ]
    },
    {
     "data": {
      "text/plain": [
       "Reusing TensorBoard on port 6006 (pid 12908), started 0:10:11 ago. (Use '!kill 12908' to kill it.)"
      ]
     },
     "metadata": {},
     "output_type": "display_data"
    },
    {
     "data": {
      "text/html": [
       "\n",
       "      <iframe id=\"tensorboard-frame-fe2fcb9216946879\" width=\"100%\" height=\"800\" frameborder=\"0\">\n",
       "      </iframe>\n",
       "      <script>\n",
       "        (function() {\n",
       "          const frame = document.getElementById(\"tensorboard-frame-fe2fcb9216946879\");\n",
       "          const url = new URL(\"/\", window.location);\n",
       "          url.port = 6006;\n",
       "          frame.src = url;\n",
       "        })();\n",
       "      </script>\n",
       "  "
      ],
      "text/plain": [
       "<IPython.core.display.HTML object>"
      ]
     },
     "metadata": {},
     "output_type": "display_data"
    }
   ],
   "source": [
    "%load_ext tensorboard\n",
    "%tensorboard --logdir logs/fit"
   ]
  },
  {
   "cell_type": "code",
   "execution_count": 58,
   "metadata": {},
   "outputs": [
    {
     "data": {
      "text/plain": [
       "<matplotlib.image.AxesImage at 0x16b028cf128>"
      ]
     },
     "execution_count": 58,
     "metadata": {},
     "output_type": "execute_result"
    },
    {
     "ename": "IndexError",
     "evalue": "list index out of range",
     "output_type": "error",
     "traceback": [
      "\u001b[1;31m---------------------------------------------------------------------------\u001b[0m",
      "\u001b[1;31mIndexError\u001b[0m                                Traceback (most recent call last)",
      "\u001b[1;32m<ipython-input-58-87271a25e0c6>\u001b[0m in \u001b[0;36m<module>\u001b[1;34m\u001b[0m\n\u001b[0;32m     15\u001b[0m     \u001b[1;32mif\u001b[0m \u001b[0mprediction_values\u001b[0m\u001b[1;33m[\u001b[0m\u001b[0mi\u001b[0m\u001b[1;33m]\u001b[0m \u001b[1;33m==\u001b[0m \u001b[0mnp\u001b[0m\u001b[1;33m.\u001b[0m\u001b[0margmax\u001b[0m\u001b[1;33m(\u001b[0m\u001b[0my_test\u001b[0m\u001b[1;33m[\u001b[0m\u001b[0mi\u001b[0m\u001b[1;33m]\u001b[0m\u001b[1;33m)\u001b[0m\u001b[1;33m:\u001b[0m\u001b[1;33m\u001b[0m\u001b[1;33m\u001b[0m\u001b[0m\n\u001b[0;32m     16\u001b[0m         \u001b[1;31m# label the image with the blue text\u001b[0m\u001b[1;33m\u001b[0m\u001b[1;33m\u001b[0m\u001b[1;33m\u001b[0m\u001b[0m\n\u001b[1;32m---> 17\u001b[1;33m         \u001b[0max\u001b[0m\u001b[1;33m.\u001b[0m\u001b[0mtext\u001b[0m\u001b[1;33m(\u001b[0m\u001b[1;36m0\u001b[0m\u001b[1;33m,\u001b[0m \u001b[1;36m7\u001b[0m\u001b[1;33m,\u001b[0m \u001b[0mclass_names\u001b[0m\u001b[1;33m[\u001b[0m\u001b[0mprediction_values\u001b[0m\u001b[1;33m[\u001b[0m\u001b[0mi\u001b[0m\u001b[1;33m]\u001b[0m\u001b[1;33m]\u001b[0m\u001b[1;33m,\u001b[0m \u001b[0mcolor\u001b[0m\u001b[1;33m=\u001b[0m\u001b[1;34m'blue'\u001b[0m\u001b[1;33m)\u001b[0m\u001b[1;33m\u001b[0m\u001b[1;33m\u001b[0m\u001b[0m\n\u001b[0m\u001b[0;32m     18\u001b[0m     \u001b[1;32melse\u001b[0m\u001b[1;33m:\u001b[0m\u001b[1;33m\u001b[0m\u001b[1;33m\u001b[0m\u001b[0m\n\u001b[0;32m     19\u001b[0m         \u001b[1;31m# label the image with the red text\u001b[0m\u001b[1;33m\u001b[0m\u001b[1;33m\u001b[0m\u001b[1;33m\u001b[0m\u001b[0m\n",
      "\u001b[1;31mIndexError\u001b[0m: list index out of range"
     ]
    },
    {
     "data": {
      "image/png": "[encoded data removed]",
      "text/plain": [
       "<Figure size 1080x504 with 1 Axes>"
      ]
     },
     "metadata": {},
     "output_type": "display_data"
    }
   ],
   "source": [
    "class_names = ['2', '4', '6', '8']\n",
    "\n",
    "prediction_values = model.predict_classes(x_test)\n",
    "\n",
    "# set up the figure\n",
    "fig = plt.figure(figsize=(15, 7))\n",
    "fig.subplots_adjust(left=0, right=1, bottom=0, top=1, hspace=0.05, wspace=0.05)\n",
    "\n",
    "# plot the images: each image is 28x28 pixels\n",
    "for i in range(50):\n",
    "    ax = fig.add_subplot(5, 10, i + 1, xticks=[], yticks=[])\n",
    "    ax.imshow(tf.reshape(x_test[i,:], [32, 32]),cmap=plt.cm.gray_r, interpolation='nearest')\n",
    "  \n",
    "    if prediction_values[i] == np.argmax(y_test[i]):\n",
    "        # label the image with the blue text\n",
    "        ax.text(0, 7, class_names[prediction_values[i]], color='blue')\n",
    "    else:\n",
    "        # label the image with the red text\n",
    "        ax.text(0, 7, class_names[prediction_values[i]], color='red')"
   ]
  },
  {
   "cell_type": "code",
   "execution_count": null,
   "metadata": {},
   "outputs": [],
   "source": []
  }
 ],
 "metadata": {
  "kernelspec": {
   "display_name": "Python 3",
   "language": "python",
   "name": "python3"
  },
  "language_info": {
   "codemirror_mode": {
    "name": "ipython",
    "version": 3
   },
   "file_extension": ".py",
   "mimetype": "text/x-python",
   "name": "python",
   "nbconvert_exporter": "python",
   "pygments_lexer": "ipython3",
   "version": "3.6.10"
  }
 },
 "nbformat": 4,
 "nbformat_minor": 2
}
